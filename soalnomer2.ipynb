{
  "nbformat": 4,
  "nbformat_minor": 0,
  "metadata": {
    "colab": {
      "provenance": []
    },
    "kernelspec": {
      "name": "python3",
      "display_name": "Python 3"
    },
    "language_info": {
      "name": "python"
    }
  },
  "cells": [
    {
      "cell_type": "code",
      "execution_count": 1,
      "metadata": {
        "colab": {
          "base_uri": "https://localhost:8080/"
        },
        "id": "7w4g5KQzUr9T",
        "outputId": "232d30b8-698a-43bb-b104-05397f50e02d"
      },
      "outputs": [
        {
          "output_type": "stream",
          "name": "stdout",
          "text": [
            "60\n",
            "123456789101112131415161718192021222324252627282930313233343536373839404142434445464748495051525354555657585960"
          ]
        }
      ],
      "source": [
        "if __name__ == '__main__':\n",
        "    n = int(input())\n",
        "    for i in range (1, n+1):\n",
        "        print(i,end='')"
      ]
    }
  ]
}